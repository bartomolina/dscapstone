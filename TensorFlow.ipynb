{
  "nbformat": 4,
  "nbformat_minor": 0,
  "metadata": {
    "colab": {
      "name": "TensorFlow.ipynb",
      "provenance": [],
      "toc_visible": true,
      "authorship_tag": "ABX9TyPyiGTi1fRoXa/AqzyRGvWf"
    },
    "kernelspec": {
      "name": "python3",
      "display_name": "Python 3"
    }
  },
  "cells": [
    {
      "cell_type": "markdown",
      "metadata": {
        "id": "E8f4Rsed8pO7",
        "colab_type": "text"
      },
      "source": [
        "# CNN Using TensorFlow"
      ]
    },
    {
      "cell_type": "markdown",
      "metadata": {
        "id": "4ikNRPDHJAkp",
        "colab_type": "text"
      },
      "source": [
        "## Import TensorFlow"
      ]
    },
    {
      "cell_type": "code",
      "metadata": {
        "id": "2PhMsd6AJDck",
        "colab_type": "code",
        "colab": {
          "base_uri": "https://localhost:8080/",
          "height": 34
        },
        "outputId": "00c0066a-e8b0-4f30-be53-c6eb8f28e69e"
      },
      "source": [
        "from __future__ import absolute_import, division, print_function, unicode_literals\n",
        "\n",
        "try:\n",
        "  # %tensorflow_version only exists in Colab.\n",
        "  %tensorflow_version 2.x\n",
        "except Exception:\n",
        "  pass\n",
        "import tensorflow as tf\n",
        "\n",
        "from tensorflow.keras import datasets, layers, models\n",
        "import matplotlib.pyplot as plt"
      ],
      "execution_count": 1,
      "outputs": [
        {
          "output_type": "stream",
          "text": [
            "TensorFlow 2.x selected.\n"
          ],
          "name": "stdout"
        }
      ]
    },
    {
      "cell_type": "markdown",
      "metadata": {
        "id": "_VN4VtX6JGgC",
        "colab_type": "text"
      },
      "source": [
        "## Load Images"
      ]
    },
    {
      "cell_type": "markdown",
      "metadata": {
        "id": "pZM1TZ6IPOcD",
        "colab_type": "text"
      },
      "source": [
        "Download the trash images from the Github repository"
      ]
    },
    {
      "cell_type": "code",
      "metadata": {
        "id": "xZwuhR2uLz0C",
        "colab_type": "code",
        "colab": {}
      },
      "source": [
        "import pathlib\n",
        "\n",
        "data_dir = tf.keras.utils.get_file(origin='https://github.com/bartomolina/dscapstone/blob/master/data/dataset-resized.zip?raw=true', fname='trash_images', extract=True)\n",
        "data_dir = pathlib.Path(data_dir)"
      ],
      "execution_count": 0,
      "outputs": []
    },
    {
      "cell_type": "code",
      "metadata": {
        "id": "RDqBKfgJOV9k",
        "colab_type": "code",
        "colab": {
          "base_uri": "https://localhost:8080/",
          "height": 34
        },
        "outputId": "6a55aa8a-7cf1-45ae-eafd-53b984de22ed"
      },
      "source": [
        "data_dir"
      ],
      "execution_count": 4,
      "outputs": [
        {
          "output_type": "execute_result",
          "data": {
            "text/plain": [
              "PosixPath('/root/.keras/datasets/trash_images')"
            ]
          },
          "metadata": {
            "tags": []
          },
          "execution_count": 4
        }
      ]
    }
  ]
}